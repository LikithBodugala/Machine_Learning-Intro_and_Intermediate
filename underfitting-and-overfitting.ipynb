{
 "cells": [
  {
   "cell_type": "markdown",
   "id": "db4c407e",
   "metadata": {
    "papermill": {
     "duration": 0.007844,
     "end_time": "2023-09-11T05:52:09.595597",
     "exception": false,
     "start_time": "2023-09-11T05:52:09.587753",
     "status": "completed"
    },
    "tags": []
   },
   "source": [
    "**This notebook is an exercise in the [Introduction to Machine Learning](https://www.kaggle.com/learn/intro-to-machine-learning) course.  You can reference the tutorial at [this link](https://www.kaggle.com/dansbecker/underfitting-and-overfitting).**\n",
    "\n",
    "---\n"
   ]
  },
  {
   "cell_type": "markdown",
   "id": "84e5b53f",
   "metadata": {
    "papermill": {
     "duration": 0.00617,
     "end_time": "2023-09-11T05:52:09.608604",
     "exception": false,
     "start_time": "2023-09-11T05:52:09.602434",
     "status": "completed"
    },
    "tags": []
   },
   "source": [
    "## Recap\n",
    "You've built your first model, and now it's time to optimize the size of the tree to make better predictions. Run this cell to set up your coding environment where the previous step left off."
   ]
  },
  {
   "cell_type": "code",
   "execution_count": 1,
   "id": "20bd3afb",
   "metadata": {
    "execution": {
     "iopub.execute_input": "2023-09-11T05:52:09.624264Z",
     "iopub.status.busy": "2023-09-11T05:52:09.623396Z",
     "iopub.status.idle": "2023-09-11T05:52:12.169489Z",
     "shell.execute_reply": "2023-09-11T05:52:12.168138Z"
    },
    "papermill": {
     "duration": 2.55734,
     "end_time": "2023-09-11T05:52:12.172319",
     "exception": false,
     "start_time": "2023-09-11T05:52:09.614979",
     "status": "completed"
    },
    "tags": []
   },
   "outputs": [
    {
     "name": "stdout",
     "output_type": "stream",
     "text": [
      "Validation MAE: 29,653\n",
      "\n",
      "Setup complete\n"
     ]
    }
   ],
   "source": [
    "# Code you have previously used to load data\n",
    "import pandas as pd\n",
    "from sklearn.metrics import mean_absolute_error\n",
    "from sklearn.model_selection import train_test_split\n",
    "from sklearn.tree import DecisionTreeRegressor\n",
    "\n",
    "\n",
    "# Path of the file to read\n",
    "iowa_file_path = '../input/home-data-for-ml-course/train.csv'\n",
    "\n",
    "home_data = pd.read_csv(iowa_file_path)\n",
    "# Create target object and call it y\n",
    "y = home_data.SalePrice\n",
    "# Create X\n",
    "features = ['LotArea', 'YearBuilt', '1stFlrSF', '2ndFlrSF', 'FullBath', 'BedroomAbvGr', 'TotRmsAbvGrd']\n",
    "X = home_data[features]\n",
    "\n",
    "# Split into validation and training data\n",
    "train_X, val_X, train_y, val_y = train_test_split(X, y, random_state=1)\n",
    "\n",
    "# Specify Model\n",
    "iowa_model = DecisionTreeRegressor(random_state=1)\n",
    "# Fit Model\n",
    "iowa_model.fit(train_X, train_y)\n",
    "\n",
    "# Make validation predictions and calculate mean absolute error\n",
    "val_predictions = iowa_model.predict(val_X)\n",
    "val_mae = mean_absolute_error(val_predictions, val_y)\n",
    "print(\"Validation MAE: {:,.0f}\".format(val_mae))\n",
    "\n",
    "# Set up code checking\n",
    "from learntools.core import binder\n",
    "binder.bind(globals())\n",
    "from learntools.machine_learning.ex5 import *\n",
    "print(\"\\nSetup complete\")"
   ]
  },
  {
   "cell_type": "markdown",
   "id": "34e5c1f8",
   "metadata": {
    "papermill": {
     "duration": 0.006058,
     "end_time": "2023-09-11T05:52:12.184898",
     "exception": false,
     "start_time": "2023-09-11T05:52:12.178840",
     "status": "completed"
    },
    "tags": []
   },
   "source": [
    "# Exercises\n",
    "You could write the function `get_mae` yourself. For now, we'll supply it. This is the same function you read about in the previous lesson. Just run the cell below."
   ]
  },
  {
   "cell_type": "code",
   "execution_count": 2,
   "id": "12a33a9d",
   "metadata": {
    "execution": {
     "iopub.execute_input": "2023-09-11T05:52:12.200285Z",
     "iopub.status.busy": "2023-09-11T05:52:12.199872Z",
     "iopub.status.idle": "2023-09-11T05:52:12.205507Z",
     "shell.execute_reply": "2023-09-11T05:52:12.204603Z"
    },
    "papermill": {
     "duration": 0.016427,
     "end_time": "2023-09-11T05:52:12.207688",
     "exception": false,
     "start_time": "2023-09-11T05:52:12.191261",
     "status": "completed"
    },
    "tags": []
   },
   "outputs": [],
   "source": [
    "def get_mae(max_leaf_nodes, train_X, val_X, train_y, val_y):\n",
    "    model = DecisionTreeRegressor(max_leaf_nodes=max_leaf_nodes, random_state=0)\n",
    "    model.fit(train_X, train_y)\n",
    "    preds_val = model.predict(val_X)\n",
    "    mae = mean_absolute_error(val_y, preds_val)\n",
    "    return(mae)"
   ]
  },
  {
   "cell_type": "markdown",
   "id": "a7f60cec",
   "metadata": {
    "papermill": {
     "duration": 0.006051,
     "end_time": "2023-09-11T05:52:12.220373",
     "exception": false,
     "start_time": "2023-09-11T05:52:12.214322",
     "status": "completed"
    },
    "tags": []
   },
   "source": [
    "## Step 1: Compare Different Tree Sizes\n",
    "Write a loop that tries the following values for *max_leaf_nodes* from a set of possible values.\n",
    "\n",
    "Call the *get_mae* function on each value of max_leaf_nodes. Store the output in some way that allows you to select the value of `max_leaf_nodes` that gives the most accurate model on your data."
   ]
  },
  {
   "cell_type": "code",
   "execution_count": 3,
   "id": "47c1fec8",
   "metadata": {
    "execution": {
     "iopub.execute_input": "2023-09-11T05:52:12.236732Z",
     "iopub.status.busy": "2023-09-11T05:52:12.235496Z",
     "iopub.status.idle": "2023-09-11T05:52:12.292729Z",
     "shell.execute_reply": "2023-09-11T05:52:12.291479Z"
    },
    "papermill": {
     "duration": 0.068812,
     "end_time": "2023-09-11T05:52:12.295554",
     "exception": false,
     "start_time": "2023-09-11T05:52:12.226742",
     "status": "completed"
    },
    "tags": []
   },
   "outputs": [
    {
     "data": {
      "application/javascript": [
       "parent.postMessage({\"jupyterEvent\": \"custom.exercise_interaction\", \"data\": {\"outcomeType\": 1, \"valueTowardsCompletion\": 0.5, \"interactionType\": 1, \"questionType\": 1, \"questionId\": \"1_BestTreeSize\", \"learnToolsVersion\": \"0.3.4\", \"failureMessage\": \"\", \"exceptionClass\": \"\", \"trace\": \"\"}}, \"*\")"
      ],
      "text/plain": [
       "<IPython.core.display.Javascript object>"
      ]
     },
     "metadata": {},
     "output_type": "display_data"
    },
    {
     "data": {
      "text/markdown": [
       "<span style=\"color:#33cc33\">Correct</span>"
      ],
      "text/plain": [
       "Correct"
      ]
     },
     "metadata": {},
     "output_type": "display_data"
    }
   ],
   "source": [
    "candidate_max_leaf_nodes = [5, 25, 50, 100, 250, 500]\n",
    "# Write loop to find the ideal tree size from candidate_max_leaf_nodes\n",
    "scores = {leaf_size: get_mae(leaf_size, train_X, val_X, train_y, val_y) for leaf_size in candidate_max_leaf_nodes}\n",
    "\n",
    "\n",
    "# Store the best value of max_leaf_nodes (it will be either 5, 25, 50, 100, 250 or 500)\n",
    "best_tree_size = min(scores, key=scores.get)\n",
    "\n",
    "# Check your answer\n",
    "step_1.check()"
   ]
  },
  {
   "cell_type": "code",
   "execution_count": 4,
   "id": "05ad400a",
   "metadata": {
    "execution": {
     "iopub.execute_input": "2023-09-11T05:52:12.311325Z",
     "iopub.status.busy": "2023-09-11T05:52:12.310870Z",
     "iopub.status.idle": "2023-09-11T05:52:12.316117Z",
     "shell.execute_reply": "2023-09-11T05:52:12.314776Z"
    },
    "papermill": {
     "duration": 0.016228,
     "end_time": "2023-09-11T05:52:12.318760",
     "exception": false,
     "start_time": "2023-09-11T05:52:12.302532",
     "status": "completed"
    },
    "tags": []
   },
   "outputs": [],
   "source": [
    "# The lines below will show you a hint or the solution.\n",
    "# step_1.hint() \n",
    "# step_1.solution()"
   ]
  },
  {
   "cell_type": "markdown",
   "id": "b3ba3ac3",
   "metadata": {
    "papermill": {
     "duration": 0.006664,
     "end_time": "2023-09-11T05:52:12.332342",
     "exception": false,
     "start_time": "2023-09-11T05:52:12.325678",
     "status": "completed"
    },
    "tags": []
   },
   "source": [
    "## Step 2: Fit Model Using All Data\n",
    "You know the best tree size. If you were going to deploy this model in practice, you would make it even more accurate by using all of the data and keeping that tree size.  That is, you don't need to hold out the validation data now that you've made all your modeling decisions."
   ]
  },
  {
   "cell_type": "code",
   "execution_count": 5,
   "id": "754d144b",
   "metadata": {
    "execution": {
     "iopub.execute_input": "2023-09-11T05:52:12.348376Z",
     "iopub.status.busy": "2023-09-11T05:52:12.347961Z",
     "iopub.status.idle": "2023-09-11T05:52:12.367325Z",
     "shell.execute_reply": "2023-09-11T05:52:12.366046Z"
    },
    "papermill": {
     "duration": 0.030332,
     "end_time": "2023-09-11T05:52:12.369977",
     "exception": false,
     "start_time": "2023-09-11T05:52:12.339645",
     "status": "completed"
    },
    "tags": []
   },
   "outputs": [
    {
     "data": {
      "application/javascript": [
       "parent.postMessage({\"jupyterEvent\": \"custom.exercise_interaction\", \"data\": {\"outcomeType\": 1, \"valueTowardsCompletion\": 0.5, \"interactionType\": 1, \"questionType\": 2, \"questionId\": \"2_FitModelWithAllData\", \"learnToolsVersion\": \"0.3.4\", \"failureMessage\": \"\", \"exceptionClass\": \"\", \"trace\": \"\"}}, \"*\")"
      ],
      "text/plain": [
       "<IPython.core.display.Javascript object>"
      ]
     },
     "metadata": {},
     "output_type": "display_data"
    },
    {
     "data": {
      "text/markdown": [
       "<span style=\"color:#33cc33\">Correct</span>"
      ],
      "text/plain": [
       "Correct"
      ]
     },
     "metadata": {},
     "output_type": "display_data"
    }
   ],
   "source": [
    "# Fill in argument to make optimal size and uncomment\n",
    "final_model = DecisionTreeRegressor(max_leaf_nodes=best_tree_size, random_state=1)\n",
    "\n",
    "# fit the final model and uncomment the next two lines\n",
    "final_model.fit(X, y)\n",
    "\n",
    "# Check your answer\n",
    "step_2.check()"
   ]
  },
  {
   "cell_type": "code",
   "execution_count": 6,
   "id": "d442bec4",
   "metadata": {
    "execution": {
     "iopub.execute_input": "2023-09-11T05:52:12.386803Z",
     "iopub.status.busy": "2023-09-11T05:52:12.386400Z",
     "iopub.status.idle": "2023-09-11T05:52:12.391730Z",
     "shell.execute_reply": "2023-09-11T05:52:12.390228Z"
    },
    "papermill": {
     "duration": 0.01723,
     "end_time": "2023-09-11T05:52:12.394660",
     "exception": false,
     "start_time": "2023-09-11T05:52:12.377430",
     "status": "completed"
    },
    "tags": []
   },
   "outputs": [],
   "source": [
    "# step_2.hint()\n",
    "# step_2.solution()"
   ]
  },
  {
   "cell_type": "markdown",
   "id": "d2a8a311",
   "metadata": {
    "papermill": {
     "duration": 0.007168,
     "end_time": "2023-09-11T05:52:12.410011",
     "exception": false,
     "start_time": "2023-09-11T05:52:12.402843",
     "status": "completed"
    },
    "tags": []
   },
   "source": [
    "You've tuned this model and improved your results. But we are still using Decision Tree models, which are not very sophisticated by modern machine learning standards. In the next step you will learn to use Random Forests to improve your models even more.\n",
    "\n",
    "# Keep Going\n",
    "\n",
    "You are ready for **[Random Forests](https://www.kaggle.com/dansbecker/random-forests).**\n"
   ]
  },
  {
   "cell_type": "markdown",
   "id": "22a37b87",
   "metadata": {
    "papermill": {
     "duration": 0.007509,
     "end_time": "2023-09-11T05:52:12.425153",
     "exception": false,
     "start_time": "2023-09-11T05:52:12.417644",
     "status": "completed"
    },
    "tags": []
   },
   "source": [
    "---\n",
    "\n",
    "\n",
    "\n",
    "\n",
    "*Have questions or comments? Visit the [course discussion forum](https://www.kaggle.com/learn/intro-to-machine-learning/discussion) to chat with other learners.*"
   ]
  }
 ],
 "kernelspec": {
  "display_name": "Python 3",
  "language": "python",
  "name": "python3"
 },
 "language_info": {
  "codemirror_mode": {
   "name": "ipython",
   "version": 3
  },
  "file_extension": ".py",
  "mimetype": "text/x-python",
  "name": "python",
  "nbconvert_exporter": "python",
  "pygments_lexer": "ipython3",
  "version": "3.6.4"
 },
 "metadata": {
  "kernelspec": {
   "display_name": "Python 3",
   "language": "python",
   "name": "python3"
  },
  "language_info": {
   "codemirror_mode": {
    "name": "ipython",
    "version": 3
   },
   "file_extension": ".py",
   "mimetype": "text/x-python",
   "name": "python",
   "nbconvert_exporter": "python",
   "pygments_lexer": "ipython3",
   "version": "3.10.12"
  },
  "papermill": {
   "default_parameters": {},
   "duration": 7.457694,
   "end_time": "2023-09-11T05:52:13.056347",
   "environment_variables": {},
   "exception": null,
   "input_path": "__notebook__.ipynb",
   "output_path": "__notebook__.ipynb",
   "parameters": {},
   "start_time": "2023-09-11T05:52:05.598653",
   "version": "2.4.0"
  }
 },
 "nbformat": 4,
 "nbformat_minor": 5
}
