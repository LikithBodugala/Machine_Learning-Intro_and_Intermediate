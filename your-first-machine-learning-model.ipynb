{
 "cells": [
  {
   "cell_type": "markdown",
   "id": "701c6beb",
   "metadata": {
    "papermill": {
     "duration": 0.009511,
     "end_time": "2023-09-11T05:05:23.419728",
     "exception": false,
     "start_time": "2023-09-11T05:05:23.410217",
     "status": "completed"
    },
    "tags": []
   },
   "source": [
    "**This notebook is an exercise in the [Introduction to Machine Learning](https://www.kaggle.com/learn/intro-to-machine-learning) course.  You can reference the tutorial at [this link](https://www.kaggle.com/dansbecker/your-first-machine-learning-model).**\n",
    "\n",
    "---\n"
   ]
  },
  {
   "cell_type": "markdown",
   "id": "4ab5c0a1",
   "metadata": {
    "papermill": {
     "duration": 0.008309,
     "end_time": "2023-09-11T05:05:23.436992",
     "exception": false,
     "start_time": "2023-09-11T05:05:23.428683",
     "status": "completed"
    },
    "tags": []
   },
   "source": [
    "## Recap\n",
    "So far, you have loaded your data and reviewed it with the following code. Run this cell to set up your coding environment where the previous step left off."
   ]
  },
  {
   "cell_type": "code",
   "execution_count": 1,
   "id": "10b5b6cd",
   "metadata": {
    "execution": {
     "iopub.execute_input": "2023-09-11T05:05:23.456111Z",
     "iopub.status.busy": "2023-09-11T05:05:23.455426Z",
     "iopub.status.idle": "2023-09-11T05:05:25.679676Z",
     "shell.execute_reply": "2023-09-11T05:05:25.678397Z"
    },
    "papermill": {
     "duration": 2.23718,
     "end_time": "2023-09-11T05:05:25.682831",
     "exception": false,
     "start_time": "2023-09-11T05:05:23.445651",
     "status": "completed"
    },
    "tags": []
   },
   "outputs": [
    {
     "name": "stdout",
     "output_type": "stream",
     "text": [
      "Setup Complete\n"
     ]
    }
   ],
   "source": [
    "# Code you have previously used to load data\n",
    "import pandas as pd\n",
    "\n",
    "# Path of the file to read\n",
    "iowa_file_path = '../input/home-data-for-ml-course/train.csv'\n",
    "\n",
    "home_data = pd.read_csv(iowa_file_path)\n",
    "\n",
    "# Set up code checking\n",
    "from learntools.core import binder\n",
    "binder.bind(globals())\n",
    "from learntools.machine_learning.ex3 import *\n",
    "\n",
    "print(\"Setup Complete\")"
   ]
  },
  {
   "cell_type": "markdown",
   "id": "eea7cfe2",
   "metadata": {
    "papermill": {
     "duration": 0.008773,
     "end_time": "2023-09-11T05:05:25.700334",
     "exception": false,
     "start_time": "2023-09-11T05:05:25.691561",
     "status": "completed"
    },
    "tags": []
   },
   "source": [
    "# Exercises\n",
    "\n",
    "## Step 1: Specify Prediction Target\n",
    "Select the target variable, which corresponds to the sales price. Save this to a new variable called `y`. You'll need to print a list of the columns to find the name of the column you need.\n"
   ]
  },
  {
   "cell_type": "code",
   "execution_count": 2,
   "id": "50a4a01a",
   "metadata": {
    "execution": {
     "iopub.execute_input": "2023-09-11T05:05:25.719617Z",
     "iopub.status.busy": "2023-09-11T05:05:25.719215Z",
     "iopub.status.idle": "2023-09-11T05:05:25.732174Z",
     "shell.execute_reply": "2023-09-11T05:05:25.731015Z"
    },
    "papermill": {
     "duration": 0.025861,
     "end_time": "2023-09-11T05:05:25.734819",
     "exception": false,
     "start_time": "2023-09-11T05:05:25.708958",
     "status": "completed"
    },
    "tags": []
   },
   "outputs": [
    {
     "name": "stdout",
     "output_type": "stream",
     "text": [
      "0       208500\n",
      "1       181500\n",
      "2       223500\n",
      "3       140000\n",
      "4       250000\n",
      "         ...  \n",
      "1455    175000\n",
      "1456    210000\n",
      "1457    266500\n",
      "1458    142125\n",
      "1459    147500\n",
      "Name: SalePrice, Length: 1460, dtype: int64\n"
     ]
    }
   ],
   "source": [
    "# print the list of columns in the dataset to find the name of the prediction target\n",
    "print(home_data.SalePrice)"
   ]
  },
  {
   "cell_type": "code",
   "execution_count": 3,
   "id": "2df37450",
   "metadata": {
    "execution": {
     "iopub.execute_input": "2023-09-11T05:05:25.754994Z",
     "iopub.status.busy": "2023-09-11T05:05:25.753893Z",
     "iopub.status.idle": "2023-09-11T05:05:25.764094Z",
     "shell.execute_reply": "2023-09-11T05:05:25.762886Z"
    },
    "papermill": {
     "duration": 0.022583,
     "end_time": "2023-09-11T05:05:25.766401",
     "exception": false,
     "start_time": "2023-09-11T05:05:25.743818",
     "status": "completed"
    },
    "tags": []
   },
   "outputs": [
    {
     "data": {
      "application/javascript": [
       "parent.postMessage({\"jupyterEvent\": \"custom.exercise_interaction\", \"data\": {\"outcomeType\": 1, \"valueTowardsCompletion\": 0.25, \"interactionType\": 1, \"questionType\": 2, \"questionId\": \"1_SetTarget\", \"learnToolsVersion\": \"0.3.4\", \"failureMessage\": \"\", \"exceptionClass\": \"\", \"trace\": \"\"}}, \"*\")"
      ],
      "text/plain": [
       "<IPython.core.display.Javascript object>"
      ]
     },
     "metadata": {},
     "output_type": "display_data"
    },
    {
     "data": {
      "text/markdown": [
       "<span style=\"color:#33cc33\">Correct</span>"
      ],
      "text/plain": [
       "Correct"
      ]
     },
     "metadata": {},
     "output_type": "display_data"
    }
   ],
   "source": [
    "y = home_data.SalePrice\n",
    "\n",
    "# Check your answer\n",
    "step_1.check()"
   ]
  },
  {
   "cell_type": "code",
   "execution_count": 4,
   "id": "c63bd0df",
   "metadata": {
    "execution": {
     "iopub.execute_input": "2023-09-11T05:05:25.787638Z",
     "iopub.status.busy": "2023-09-11T05:05:25.786902Z",
     "iopub.status.idle": "2023-09-11T05:05:25.791591Z",
     "shell.execute_reply": "2023-09-11T05:05:25.790528Z"
    },
    "papermill": {
     "duration": 0.017822,
     "end_time": "2023-09-11T05:05:25.794009",
     "exception": false,
     "start_time": "2023-09-11T05:05:25.776187",
     "status": "completed"
    },
    "tags": []
   },
   "outputs": [],
   "source": [
    "# The lines below will show you a hint or the solution.\n",
    "# step_1.hint() \n",
    "# step_1.solution()"
   ]
  },
  {
   "cell_type": "markdown",
   "id": "07ae4337",
   "metadata": {
    "papermill": {
     "duration": 0.008958,
     "end_time": "2023-09-11T05:05:25.812119",
     "exception": false,
     "start_time": "2023-09-11T05:05:25.803161",
     "status": "completed"
    },
    "tags": []
   },
   "source": [
    "## Step 2: Create X\n",
    "Now you will create a DataFrame called `X` holding the predictive features.\n",
    "\n",
    "Since you want only some columns from the original data, you'll first create a list with the names of the columns you want in `X`.\n",
    "\n",
    "You'll use just the following columns in the list (you can copy and paste the whole list to save some typing, though you'll still need to add quotes):\n",
    "  * LotArea\n",
    "  * YearBuilt\n",
    "  * 1stFlrSF\n",
    "  * 2ndFlrSF\n",
    "  * FullBath\n",
    "  * BedroomAbvGr\n",
    "  * TotRmsAbvGrd\n",
    "\n",
    "After you've created that list of features, use it to create the DataFrame that you'll use to fit the model."
   ]
  },
  {
   "cell_type": "code",
   "execution_count": 5,
   "id": "3c8eb556",
   "metadata": {
    "execution": {
     "iopub.execute_input": "2023-09-11T05:05:25.832574Z",
     "iopub.status.busy": "2023-09-11T05:05:25.832108Z",
     "iopub.status.idle": "2023-09-11T05:05:25.852830Z",
     "shell.execute_reply": "2023-09-11T05:05:25.851753Z"
    },
    "papermill": {
     "duration": 0.033946,
     "end_time": "2023-09-11T05:05:25.855197",
     "exception": false,
     "start_time": "2023-09-11T05:05:25.821251",
     "status": "completed"
    },
    "tags": []
   },
   "outputs": [
    {
     "data": {
      "application/javascript": [
       "parent.postMessage({\"jupyterEvent\": \"custom.exercise_interaction\", \"data\": {\"outcomeType\": 1, \"valueTowardsCompletion\": 0.25, \"interactionType\": 1, \"questionType\": 2, \"questionId\": \"2_SelectPredictionData\", \"learnToolsVersion\": \"0.3.4\", \"failureMessage\": \"\", \"exceptionClass\": \"\", \"trace\": \"\"}}, \"*\")"
      ],
      "text/plain": [
       "<IPython.core.display.Javascript object>"
      ]
     },
     "metadata": {},
     "output_type": "display_data"
    },
    {
     "data": {
      "text/markdown": [
       "<span style=\"color:#33cc33\">Correct</span>"
      ],
      "text/plain": [
       "Correct"
      ]
     },
     "metadata": {},
     "output_type": "display_data"
    }
   ],
   "source": [
    "# Create the list of features below\n",
    "feature_names = ['LotArea',\n",
    "'YearBuilt',\n",
    "'1stFlrSF', \n",
    "'2ndFlrSF',\n",
    "'FullBath',\n",
    "'BedroomAbvGr',\n",
    "'TotRmsAbvGrd']\n",
    "\n",
    "# Select data corresponding to features in feature_names\n",
    "X = home_data[feature_names]\n",
    "\n",
    "# Check your answer\n",
    "step_2.check()"
   ]
  },
  {
   "cell_type": "code",
   "execution_count": 6,
   "id": "6fac5700",
   "metadata": {
    "collapsed": true,
    "execution": {
     "iopub.execute_input": "2023-09-11T05:05:25.878231Z",
     "iopub.status.busy": "2023-09-11T05:05:25.877426Z",
     "iopub.status.idle": "2023-09-11T05:05:25.882335Z",
     "shell.execute_reply": "2023-09-11T05:05:25.881228Z"
    },
    "jupyter": {
     "outputs_hidden": true
    },
    "papermill": {
     "duration": 0.018876,
     "end_time": "2023-09-11T05:05:25.884856",
     "exception": false,
     "start_time": "2023-09-11T05:05:25.865980",
     "status": "completed"
    },
    "tags": []
   },
   "outputs": [],
   "source": [
    "# step_2.hint()\n",
    "# step_2.solution()"
   ]
  },
  {
   "cell_type": "markdown",
   "id": "9d143414",
   "metadata": {
    "papermill": {
     "duration": 0.009495,
     "end_time": "2023-09-11T05:05:25.904192",
     "exception": false,
     "start_time": "2023-09-11T05:05:25.894697",
     "status": "completed"
    },
    "tags": []
   },
   "source": [
    "## Review Data\n",
    "Before building a model, take a quick look at **X** to verify it looks sensible"
   ]
  },
  {
   "cell_type": "code",
   "execution_count": 7,
   "id": "4cc060e9",
   "metadata": {
    "execution": {
     "iopub.execute_input": "2023-09-11T05:05:25.925493Z",
     "iopub.status.busy": "2023-09-11T05:05:25.924850Z",
     "iopub.status.idle": "2023-09-11T05:05:25.960232Z",
     "shell.execute_reply": "2023-09-11T05:05:25.958950Z"
    },
    "papermill": {
     "duration": 0.049199,
     "end_time": "2023-09-11T05:05:25.962980",
     "exception": false,
     "start_time": "2023-09-11T05:05:25.913781",
     "status": "completed"
    },
    "tags": []
   },
   "outputs": [
    {
     "name": "stdout",
     "output_type": "stream",
     "text": [
      "             LotArea    YearBuilt     1stFlrSF     2ndFlrSF     FullBath  \\\n",
      "count    1460.000000  1460.000000  1460.000000  1460.000000  1460.000000   \n",
      "mean    10516.828082  1971.267808  1162.626712   346.992466     1.565068   \n",
      "std      9981.264932    30.202904   386.587738   436.528436     0.550916   \n",
      "min      1300.000000  1872.000000   334.000000     0.000000     0.000000   \n",
      "25%      7553.500000  1954.000000   882.000000     0.000000     1.000000   \n",
      "50%      9478.500000  1973.000000  1087.000000     0.000000     2.000000   \n",
      "75%     11601.500000  2000.000000  1391.250000   728.000000     2.000000   \n",
      "max    215245.000000  2010.000000  4692.000000  2065.000000     3.000000   \n",
      "\n",
      "       BedroomAbvGr  TotRmsAbvGrd  \n",
      "count   1460.000000   1460.000000  \n",
      "mean       2.866438      6.517808  \n",
      "std        0.815778      1.625393  \n",
      "min        0.000000      2.000000  \n",
      "25%        2.000000      5.000000  \n",
      "50%        3.000000      6.000000  \n",
      "75%        3.000000      7.000000  \n",
      "max        8.000000     14.000000  \n",
      "   LotArea  YearBuilt  1stFlrSF  2ndFlrSF  FullBath  BedroomAbvGr  \\\n",
      "0     8450       2003       856       854         2             3   \n",
      "1     9600       1976      1262         0         2             3   \n",
      "2    11250       2001       920       866         2             3   \n",
      "3     9550       1915       961       756         1             3   \n",
      "4    14260       2000      1145      1053         2             4   \n",
      "\n",
      "   TotRmsAbvGrd  \n",
      "0             8  \n",
      "1             6  \n",
      "2             6  \n",
      "3             7  \n",
      "4             9  \n"
     ]
    }
   ],
   "source": [
    "# Review data\n",
    "# print description or statistics from X\n",
    "print(X.describe())\n",
    "\n",
    "# print the top few lines\n",
    "print(X.head())"
   ]
  },
  {
   "cell_type": "markdown",
   "id": "359882e5",
   "metadata": {
    "papermill": {
     "duration": 0.009633,
     "end_time": "2023-09-11T05:05:25.983057",
     "exception": false,
     "start_time": "2023-09-11T05:05:25.973424",
     "status": "completed"
    },
    "tags": []
   },
   "source": [
    "## Step 3: Specify and Fit Model\n",
    "Create a `DecisionTreeRegressor` and save it iowa_model. Ensure you've done the relevant import from sklearn to run this command.\n",
    "\n",
    "Then fit the model you just created using the data in `X` and `y` that you saved above."
   ]
  },
  {
   "cell_type": "code",
   "execution_count": 8,
   "id": "83f5db43",
   "metadata": {
    "execution": {
     "iopub.execute_input": "2023-09-11T05:05:26.004665Z",
     "iopub.status.busy": "2023-09-11T05:05:26.004230Z",
     "iopub.status.idle": "2023-09-11T05:05:26.024455Z",
     "shell.execute_reply": "2023-09-11T05:05:26.023654Z"
    },
    "papermill": {
     "duration": 0.033656,
     "end_time": "2023-09-11T05:05:26.026742",
     "exception": false,
     "start_time": "2023-09-11T05:05:25.993086",
     "status": "completed"
    },
    "tags": []
   },
   "outputs": [
    {
     "data": {
      "application/javascript": [
       "parent.postMessage({\"jupyterEvent\": \"custom.exercise_interaction\", \"data\": {\"outcomeType\": 1, \"valueTowardsCompletion\": 0.25, \"interactionType\": 1, \"questionType\": 2, \"questionId\": \"3_CreateModel\", \"learnToolsVersion\": \"0.3.4\", \"failureMessage\": \"\", \"exceptionClass\": \"\", \"trace\": \"\"}}, \"*\")"
      ],
      "text/plain": [
       "<IPython.core.display.Javascript object>"
      ]
     },
     "metadata": {},
     "output_type": "display_data"
    },
    {
     "data": {
      "text/markdown": [
       "<span style=\"color:#33cc33\">Correct</span>"
      ],
      "text/plain": [
       "Correct"
      ]
     },
     "metadata": {},
     "output_type": "display_data"
    }
   ],
   "source": [
    "from sklearn.tree import DecisionTreeRegressor\n",
    "#For model reproducibility, set a numeric value for random_state when specifying the model\n",
    "iowa_model = DecisionTreeRegressor(random_state=1)\n",
    "\n",
    "# Fit the model\n",
    "iowa_model.fit(X,y)\n",
    "\n",
    "# Check your answer\n",
    "step_3.check()"
   ]
  },
  {
   "cell_type": "code",
   "execution_count": 9,
   "id": "a08fb142",
   "metadata": {
    "collapsed": true,
    "execution": {
     "iopub.execute_input": "2023-09-11T05:05:26.049330Z",
     "iopub.status.busy": "2023-09-11T05:05:26.048596Z",
     "iopub.status.idle": "2023-09-11T05:05:26.053527Z",
     "shell.execute_reply": "2023-09-11T05:05:26.052233Z"
    },
    "jupyter": {
     "outputs_hidden": true
    },
    "papermill": {
     "duration": 0.019235,
     "end_time": "2023-09-11T05:05:26.056037",
     "exception": false,
     "start_time": "2023-09-11T05:05:26.036802",
     "status": "completed"
    },
    "tags": []
   },
   "outputs": [],
   "source": [
    "# step_3.hint()\n",
    "# step_3.solution()"
   ]
  },
  {
   "cell_type": "markdown",
   "id": "a5b3a00c",
   "metadata": {
    "papermill": {
     "duration": 0.009877,
     "end_time": "2023-09-11T05:05:26.076301",
     "exception": false,
     "start_time": "2023-09-11T05:05:26.066424",
     "status": "completed"
    },
    "tags": []
   },
   "source": [
    "## Step 4: Make Predictions\n",
    "Make predictions with the model's `predict` command using `X` as the data. Save the results to a variable called `predictions`."
   ]
  },
  {
   "cell_type": "code",
   "execution_count": 10,
   "id": "643b0a37",
   "metadata": {
    "execution": {
     "iopub.execute_input": "2023-09-11T05:05:26.098730Z",
     "iopub.status.busy": "2023-09-11T05:05:26.098343Z",
     "iopub.status.idle": "2023-09-11T05:05:26.115057Z",
     "shell.execute_reply": "2023-09-11T05:05:26.113962Z"
    },
    "papermill": {
     "duration": 0.030767,
     "end_time": "2023-09-11T05:05:26.117627",
     "exception": false,
     "start_time": "2023-09-11T05:05:26.086860",
     "status": "completed"
    },
    "tags": []
   },
   "outputs": [
    {
     "name": "stdout",
     "output_type": "stream",
     "text": [
      "[208500. 181500. 223500. ... 266500. 142125. 147500.]\n"
     ]
    },
    {
     "data": {
      "application/javascript": [
       "parent.postMessage({\"jupyterEvent\": \"custom.exercise_interaction\", \"data\": {\"outcomeType\": 1, \"valueTowardsCompletion\": 0.25, \"interactionType\": 1, \"questionType\": 2, \"questionId\": \"4_MakePredictions\", \"learnToolsVersion\": \"0.3.4\", \"failureMessage\": \"\", \"exceptionClass\": \"\", \"trace\": \"\"}}, \"*\")"
      ],
      "text/plain": [
       "<IPython.core.display.Javascript object>"
      ]
     },
     "metadata": {},
     "output_type": "display_data"
    },
    {
     "data": {
      "text/markdown": [
       "<span style=\"color:#33cc33\">Correct</span>"
      ],
      "text/plain": [
       "Correct"
      ]
     },
     "metadata": {},
     "output_type": "display_data"
    }
   ],
   "source": [
    "predictions = iowa_model.predict(X)\n",
    "print(predictions)\n",
    "\n",
    "# Check your answer\n",
    "step_4.check()"
   ]
  },
  {
   "cell_type": "code",
   "execution_count": 11,
   "id": "a9e05138",
   "metadata": {
    "collapsed": true,
    "execution": {
     "iopub.execute_input": "2023-09-11T05:05:26.140797Z",
     "iopub.status.busy": "2023-09-11T05:05:26.140408Z",
     "iopub.status.idle": "2023-09-11T05:05:26.145078Z",
     "shell.execute_reply": "2023-09-11T05:05:26.143835Z"
    },
    "jupyter": {
     "outputs_hidden": true
    },
    "papermill": {
     "duration": 0.018997,
     "end_time": "2023-09-11T05:05:26.147429",
     "exception": false,
     "start_time": "2023-09-11T05:05:26.128432",
     "status": "completed"
    },
    "tags": []
   },
   "outputs": [],
   "source": [
    "# step_4.hint()\n",
    "# step_4.solution()"
   ]
  },
  {
   "cell_type": "markdown",
   "id": "4837264b",
   "metadata": {
    "papermill": {
     "duration": 0.010828,
     "end_time": "2023-09-11T05:05:26.169039",
     "exception": false,
     "start_time": "2023-09-11T05:05:26.158211",
     "status": "completed"
    },
    "tags": []
   },
   "source": [
    "## Think About Your Results\n",
    "\n",
    "Use the `head` method to compare the top few predictions to the actual home values (in `y`) for those same homes. Anything surprising?\n"
   ]
  },
  {
   "cell_type": "code",
   "execution_count": 12,
   "id": "988f4c57",
   "metadata": {
    "execution": {
     "iopub.execute_input": "2023-09-11T05:05:26.192311Z",
     "iopub.status.busy": "2023-09-11T05:05:26.191858Z",
     "iopub.status.idle": "2023-09-11T05:05:26.200157Z",
     "shell.execute_reply": "2023-09-11T05:05:26.199078Z"
    },
    "papermill": {
     "duration": 0.022727,
     "end_time": "2023-09-11T05:05:26.202681",
     "exception": false,
     "start_time": "2023-09-11T05:05:26.179954",
     "status": "completed"
    },
    "tags": []
   },
   "outputs": [
    {
     "data": {
      "text/plain": [
       "0    208500\n",
       "1    181500\n",
       "2    223500\n",
       "3    140000\n",
       "4    250000\n",
       "Name: SalePrice, dtype: int64"
      ]
     },
     "execution_count": 12,
     "metadata": {},
     "output_type": "execute_result"
    }
   ],
   "source": [
    "# You can write code in this cell\n",
    "y.head()"
   ]
  },
  {
   "cell_type": "markdown",
   "id": "56078a82",
   "metadata": {
    "papermill": {
     "duration": 0.010986,
     "end_time": "2023-09-11T05:05:26.224545",
     "exception": false,
     "start_time": "2023-09-11T05:05:26.213559",
     "status": "completed"
    },
    "tags": []
   },
   "source": [
    "It's natural to ask how accurate the model's predictions will be and how you can improve that. That will be you're next step.\n",
    "\n",
    "# Keep Going\n",
    "\n",
    "You are ready for **[Model Validation](https://www.kaggle.com/dansbecker/model-validation).**\n"
   ]
  },
  {
   "cell_type": "markdown",
   "id": "7be53fdb",
   "metadata": {
    "papermill": {
     "duration": 0.010678,
     "end_time": "2023-09-11T05:05:26.246759",
     "exception": false,
     "start_time": "2023-09-11T05:05:26.236081",
     "status": "completed"
    },
    "tags": []
   },
   "source": [
    "---\n",
    "\n",
    "\n",
    "\n",
    "\n",
    "*Have questions or comments? Visit the [course discussion forum](https://www.kaggle.com/learn/intro-to-machine-learning/discussion) to chat with other learners.*"
   ]
  }
 ],
 "kernelspec": {
  "display_name": "Python 3",
  "language": "python",
  "name": "python3"
 },
 "language_info": {
  "codemirror_mode": {
   "name": "ipython",
   "version": 3
  },
  "file_extension": ".py",
  "mimetype": "text/x-python",
  "name": "python",
  "nbconvert_exporter": "python",
  "pygments_lexer": "ipython3",
  "version": "3.6.4"
 },
 "metadata": {
  "kernelspec": {
   "display_name": "Python 3",
   "language": "python",
   "name": "python3"
  },
  "language_info": {
   "codemirror_mode": {
    "name": "ipython",
    "version": 3
   },
   "file_extension": ".py",
   "mimetype": "text/x-python",
   "name": "python",
   "nbconvert_exporter": "python",
   "pygments_lexer": "ipython3",
   "version": "3.10.12"
  },
  "papermill": {
   "default_parameters": {},
   "duration": 7.123504,
   "end_time": "2023-09-11T05:05:26.880518",
   "environment_variables": {},
   "exception": null,
   "input_path": "__notebook__.ipynb",
   "output_path": "__notebook__.ipynb",
   "parameters": {},
   "start_time": "2023-09-11T05:05:19.757014",
   "version": "2.4.0"
  }
 },
 "nbformat": 4,
 "nbformat_minor": 5
}
